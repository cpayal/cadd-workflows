{
 "cells": [
  {
   "cell_type": "markdown",
   "id": "96c5d614-fd4a-4bcb-92ae-841286b4c496",
   "metadata": {},
   "source": [
    "# Structural Overview of CDK2 (PDB ID: 1H1Q)\n",
    "\n",
    "- The 1H1Q structure represents the **active form of human Cyclin-Dependent Kinase 2 (CDK2)** bound to **Cyclin A** and the purine-based inhibitor **NU6094 (2A6)**.  \n",
    "- CDK2 is a serine/threonine kinase that regulates the **G1/S phase transition** of the cell cycle, requiring both **Cyclin A binding** and **Thr160 phosphorylation** for full activation.  \n",
    "\n",
    "- Structurally, CDK2 adopts the **typical kinase fold** with a small N-terminal lobe and a larger C-terminal lobe forming the **ATP-binding cleft**.  \n",
    "- **Cyclin A binding** stabilizes the PSTAIRE helix and correctly positions the activation loop (T-loop) containing phosphorylated Thr160, enabling substrate and inhibitor binding.  \n",
    "- The **inhibitor NU6094** binds in the ATP pocket, forming **key hydrogen bonds with hinge residues Glu81 and Leu83**, and engages in **hydrophobic interactions with Phe80, Phe82, and Asp86**—stabilizing the active site and mimicking ATP binding.  \n",
    "- Later analogs (e.g., NU6102) introduced a sulfonamide group to form additional hydrogen bonds, improving affinity by nearly 1000-fold.  \n",
    "\n",
    "- For receptor preparation, only **chains A and B** (CDK2–Cyclin A complex) will be retained, excluding all water molecules and heteroatoms.  \n",
    "\n",
    "The structure was solved at **2.5 Å resolution**, capturing a fully active, phosphorylated CDK2/Cyclin A complex with a bound inhibitor—making it an ideal model for **virtual screening and docking studies**."
   ]
  },
  {
   "cell_type": "code",
   "execution_count": 1,
   "id": "34c4c411-363a-4225-82e1-2743abe47300",
   "metadata": {},
   "outputs": [
    {
     "name": "stderr",
     "output_type": "stream",
     "text": [
      "/home/pchatterjee/.local/lib/python3.10/site-packages/prody/utilities/misctools.py:424: UserWarning: pkg_resources is deprecated as an API. See https://setuptools.pypa.io/en/latest/pkg_resources.html. The pkg_resources package is slated for removal as early as 2025-11-30. Refrain from using this package or pin to Setuptools<81.\n",
      "  import pkg_resources\n"
     ]
    }
   ],
   "source": [
    "import os\n",
    "import subprocess\n",
    "import time\n",
    "import prody\n",
    "from prody import parsePDB, writePDB, calcCenter\n",
    "\n",
    "# --- SETTINGS ---\n",
    "pdb_id = \"1H1Q\"\n",
    "box_size = (20.0, 20.0, 20.0)\n",
    "ligand_resname = \"2A6\"  # co-crystallized ligand in 1H1Q"
   ]
  },
  {
   "cell_type": "markdown",
   "id": "46fae9af-8958-4f1d-8dea-9c5db156b069",
   "metadata": {},
   "source": [
    "### **Step 1 : Download the PDB Structure**\n",
    "The CDK2 structure (PDB **1H1Q**) is downloaded directly from the RCSB Protein Data Bank."
   ]
  },
  {
   "cell_type": "code",
   "execution_count": 2,
   "id": "42747b22-4d38-4c4f-bf62-059810cedb8b",
   "metadata": {},
   "outputs": [
    {
     "name": "stdout",
     "output_type": "stream",
     "text": [
      "Downloading 1H1Q from RCSB...\n"
     ]
    },
    {
     "data": {
      "text/plain": [
       "0"
      ]
     },
     "execution_count": 2,
     "metadata": {},
     "output_type": "execute_result"
    }
   ],
   "source": [
    "print(f\"Downloading {pdb_id} from RCSB...\")\n",
    "os.system(f\"curl -s https://files.rcsb.org/view/{pdb_id}.pdb -o {pdb_id}.pdb\")"
   ]
  },
  {
   "cell_type": "markdown",
   "id": "32485bbb-aefd-405f-83b1-66bb8ecdc33e",
   "metadata": {},
   "source": [
    "### **Step 2 : Select Protein Chains A and B**\n",
    "Water molecules and heteroatoms (ligands, ions) are removed, keeping only the receptor atoms."
   ]
  },
  {
   "cell_type": "code",
   "execution_count": 3,
   "id": "e16b4bd5-5337-4389-b4e6-79812129ee89",
   "metadata": {},
   "outputs": [
    {
     "name": "stderr",
     "output_type": "stream",
     "text": [
      "@> Connecting wwPDB FTP server RCSB PDB (USA).\n",
      "@> Downloading PDB files via FTP failed, trying HTTP.\n"
     ]
    },
    {
     "name": "stdout",
     "output_type": "stream",
     "text": [
      "Selecting receptor atoms (chains A and B, excluding water/heteroatoms)...\n"
     ]
    },
    {
     "name": "stderr",
     "output_type": "stream",
     "text": [
      "@> 1h1q downloaded (1h1q.pdb.gz)\n",
      "@> PDB download via HTTP completed (1 downloaded, 0 failed).\n",
      "@> 9325 atoms and 1 coordinate set(s) were parsed in 0.04s.\n"
     ]
    },
    {
     "data": {
      "text/plain": [
       "'1H1Q_receptor_atoms.pdb'"
      ]
     },
     "execution_count": 3,
     "metadata": {},
     "output_type": "execute_result"
    }
   ],
   "source": [
    "print(\"Selecting receptor atoms (chains A and B, excluding water/heteroatoms)...\")\n",
    "atoms = parsePDB(pdb_id)\n",
    "receptor_atoms = atoms.select(\"(chain A or chain B) and not water and not hetero\")\n",
    "if receptor_atoms is None:\n",
    "    raise ValueError(\"No receptor atoms found. Check chain IDs or PDB content.\")\n",
    "writePDB(f\"{pdb_id}_receptor_atoms.pdb\", receptor_atoms)"
   ]
  },
  {
   "cell_type": "markdown",
   "id": "40da129b-4b95-4daf-a496-e0ff3e77d751",
   "metadata": {},
   "source": [
    "### **Step 3 : Define the Docking Box**\n",
    "The geometric center of the co-crystal ligand (`2A6`) is used to define the center of the docking grid box."
   ]
  },
  {
   "cell_type": "code",
   "execution_count": 4,
   "id": "95721f13-71d4-4c8e-8464-81873e732aae",
   "metadata": {},
   "outputs": [
    {
     "name": "stdout",
     "output_type": "stream",
     "text": [
      "Calculating box center using co-ligand: 2A6\n",
      "Box center = (6.145, 44.176, 50.828)\n"
     ]
    }
   ],
   "source": [
    "print(f\"Calculating box center using co-ligand: {ligand_resname}\")\n",
    "ligand_atoms = atoms.select(f\"chain A and resname {ligand_resname}\")\n",
    "if ligand_atoms is None:\n",
    "    raise ValueError(f\"No ligand found with resname '{ligand_resname}' in chain A.\")\n",
    "cx, cy, cz = calcCenter(ligand_atoms)\n",
    "print(f\"Box center = ({cx:.3f}, {cy:.3f}, {cz:.3f})\")"
   ]
  },
  {
   "cell_type": "markdown",
   "id": "a5f57da3-75ef-4f11-8bdc-6f1a1d1c5773",
   "metadata": {},
   "source": [
    "### **Step 4 : Prepare the Receptor with Meeko**\n",
    "Meeko converts the cleaned PDB into a **PDBQT** format compatible with AutoDock Vina and defines the docking grid box.\n",
    "\n",
    "This includes:\n",
    "- Adding hydrogens  \n",
    "- Assigning Gasteiger charges  \n",
    "- Creating `.pdbqt` and `.box.pdb` files"
   ]
  },
  {
   "cell_type": "markdown",
   "id": "d897eec0-2346-4468-8bb4-9c019ec0d7c8",
   "metadata": {},
   "source": [
    "##### **Note on File Handling in Jupyter**\n",
    "\n",
    "In some cases, `writePDB()` from ProDy may not immediately create the output file if:\n",
    "- the atom selection (`receptor_atoms`) is empty or invalid (e.g., wrong chain IDs), or  \n",
    "- the Jupyter environment hasn’t fully flushed the file to disk when `os.rename()` is called.\n",
    "\n",
    "If you encounter a `FileNotFoundError`, first check:\n",
    "```python\n",
    "print([f for f in os.listdir('.') if f.endswith('.pdb')])"
   ]
  },
  {
   "cell_type": "code",
   "execution_count": 5,
   "id": "88a97df4-fd18-406c-8e75-f5c699a36f26",
   "metadata": {},
   "outputs": [
    {
     "name": "stdout",
     "output_type": "stream",
     "text": [
      "Preparing receptor with Meeko...\n"
     ]
    },
    {
     "name": "stderr",
     "output_type": "stream",
     "text": [
      "@> 4471 atoms and 1 coordinate set(s) were parsed in 0.02s.\n"
     ]
    },
    {
     "name": "stdout",
     "output_type": "stream",
     "text": [
      "\n",
      "Files written:\n",
      "  1H1Q_receptorH.pdbqt <-- static (i.e., rigid) receptor input file\n",
      "1H1Q_receptorH.box.txt <-- Vina-style box dimension file\n",
      "1H1Q_receptorH.box.pdb <-- PDB file to visualize the grid box\n",
      "Receptor prepared successfully → 1H1Q_receptorH.pdbqt and 1H1Q_receptorH.box.pdb\n"
     ]
    }
   ],
   "source": [
    "out_base = f\"{pdb_id}_receptorH\"\n",
    "renamed_pdb = \"receptor_1H1Q.pdb\"\n",
    "\n",
    "# --- Wait for file to appear before renaming ---\n",
    "pdb_path = f\"{pdb_id}_receptor_atoms.pdb\"\n",
    "for _ in range(10):\n",
    "    if os.path.exists(pdb_path):\n",
    "        break\n",
    "    time.sleep(0.2)  # wait 200 ms\n",
    "else:\n",
    "    raise FileNotFoundError(f\"{pdb_path} not found after writing.\")\n",
    "\n",
    "# --- Now safe to rename ---\n",
    "os.rename(pdb_path, renamed_pdb)\n",
    "print(\"Preparing receptor with Meeko...\")\n",
    "\n",
    "subprocess.run([\n",
    "    \"mk_prepare_receptor.py\",\n",
    "    \"-i\", renamed_pdb,\n",
    "    \"-o\", out_base,\n",
    "    \"-p\", \"-v\",\n",
    "    \"--box_center\", str(cx), str(cy), str(cz),\n",
    "    \"--box_size\", str(box_size[0]), str(box_size[1]), str(box_size[2])\n",
    "], check=True)\n",
    "\n",
    "print(f\"Receptor prepared successfully → {out_base}.pdbqt and {out_base}.box.pdb\")\n"
   ]
  },
  {
   "cell_type": "code",
   "execution_count": null,
   "id": "e804bb7f-0a37-4a55-ab69-f402dbf0e6e4",
   "metadata": {},
   "outputs": [],
   "source": []
  }
 ],
 "metadata": {
  "kernelspec": {
   "display_name": "Python [conda env:autodock-diffdock] *",
   "language": "python",
   "name": "conda-env-autodock-diffdock-py"
  },
  "language_info": {
   "codemirror_mode": {
    "name": "ipython",
    "version": 3
   },
   "file_extension": ".py",
   "mimetype": "text/x-python",
   "name": "python",
   "nbconvert_exporter": "python",
   "pygments_lexer": "ipython3",
   "version": "3.10.19"
  }
 },
 "nbformat": 4,
 "nbformat_minor": 5
}
